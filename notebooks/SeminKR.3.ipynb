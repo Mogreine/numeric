{
 "cells": [
  {
   "cell_type": "markdown",
   "metadata": {},
   "source": [
    "# Домашняя работа #2\n",
    "## Пункт 1\n",
    "По условию\n",
    "\n",
    "$u(x, y) = \\sin(\\pi x)\\sin(2\\pi y)$\n",
    "\n",
    "при определенном f(x, y), найдем его, подставив u в ДУ:\n",
    "\n",
    "$f(x, y) = \\sin(\\pi x)\\sin(2\\pi y)(5 \\pi^2 + e^{xy})$"
   ]
  },
  {
   "cell_type": "markdown",
   "metadata": {},
   "source": [
    "## Пункт 2\n",
    "Для численного решения этого уравнения может использоваться метод конечно-разностной дискретизации, аналогичный упражнению 2. Разделим интервал $[0, 1]$ по обеим координатам на $N+1$ отрезков одинаковой длины $h = 1/(N+1)$. В каждой точке $(x_i, y_j) = (ih, jh), i, j = 1,\\ldots, N$ построим конечно-разностные аппроксимации вторых производных:\n",
    "$$\n",
    "-\\frac{\\partial^2}{\\partial x^2}(x_i, yj) \\approx -\\frac{[u(x{i-1}, y_j) - 2u(x_i, yj) + u(x{i+1}, y_j)]}{h^2}\n",
    "$$\n",
    "$$\n",
    "-\\frac{\\partial^2}{\\partial y^2}(x_i, y_j) \\approx -\\frac{[u(xi, y{j-1}) - 2u(x_i, y_j) + u(xi, y{j+1})]}{h^2}\n",
    "$$\n",
    "Элементы СЛАУ\n",
    "$$\n",
    "A\\cdot \\overrightarrow u = \\overrightarrow f,\n",
    "$$\n",
    "матрица и вектора-функции, записывается в терминах единого индекса $k = i + (j-1)N, k = 1, \\ldots, N^2$. $(\\overrightarrow u)_k = u(x_i, y_j), (\\overrightarrow f)_k = f(x_i, yj)$.\n",
    "\n",
    "Ненулевые элементы $A_{kk'}$ матрицы определяются следующим образом:\n",
    "$$\n",
    "A_{kk'} = 4/h^2 + e^{x_iyj}, i = i', j = j'\n",
    "$$\n",
    "$$\n",
    "A_{kk'} = -1/h^2, |i - i'| = 1, j = j'\n",
    "$$\n",
    "$$\n",
    "A_{kk'} = -1/h^2, i = i', |j - j'| = 1\n",
    "$$\n",
    "\n",
    "Напишем код, для генерации матрицы и вектора f."
   ]
  },
  {
   "cell_type": "code",
   "execution_count": null,
   "metadata": {},
   "outputs": [],
   "source": [
    "import numpy as np\n",
    "from scipy import sparse\n",
    "from scipy.sparse.linalg import inv\n",
    "from timeit import default_timer as timer\n",
    "import plotly.graph_objs as go\n",
    "import plotly\n",
    "\n",
    "\n",
    "def u_val(x, y):\n",
    "    return np.sin(np.pi * x) * np.sin(2 * np.pi * y)\n",
    "\n",
    "\n",
    "def f_val(x, y):\n",
    "    return u_val(x, y) * (5 * np.pi ** 2 + np.exp(x * y))\n",
    "\n",
    "\n",
    "def generate_F(x, y, func):\n",
    "    res = []\n",
    "    for yi in y:\n",
    "        res.append(func(x, yi))\n",
    "    return np.array(res)\n",
    "\n",
    "\n",
    "def generate_A(x, y, h, n):\n",
    "    res = np.zeros(shape=(n ** 2, n ** 2))\n",
    "    for i in range(n):\n",
    "        for j in range(n):\n",
    "            k = i + j * n\n",
    "\n",
    "            res[k][k] = 4 / h ** 2 + np.exp(x[i] * y[j])\n",
    "\n",
    "            val = -1 / h ** 2\n",
    "            # if |i - i'| = 1, j = j'\n",
    "            if i + 1 < n:\n",
    "                res[k][k + 1] = val\n",
    "            if i - 1 >= 0:\n",
    "                res[k][k - 1] = val\n",
    "\n",
    "            # if |j - j'| = 1, i = i'\n",
    "            if j + 1 < n:\n",
    "                res[k][k + n] = val\n",
    "            if j - 1 >= 0:\n",
    "                res[k][k - n] = val\n",
    "    return res"
   ]
  },
  {
   "cell_type": "markdown",
   "metadata": {},
   "source": [
    "Для решения системы воспользуемся методом SOR."
   ]
  },
  {
   "cell_type": "code",
   "execution_count": null,
   "metadata": {},
   "outputs": [],
   "source": [
    "def SOR(A, f, w=1.0, max_iter=100):\n",
    "    x = np.zeros_like(f)\n",
    "    hist = []\n",
    "    kk = []\n",
    "    for k in range(max_iter):\n",
    "        for i in range(len(x)):\n",
    "            x[i] = (1 - w) * x[i] + w / A[i][i] * (f[i] - A[i, :i] @ x[:i] - A[i, i + 1:] @ x[i + 1:])\n",
    "        hist.append(x.copy())\n",
    "        kk.append(k + 1)\n",
    "    return x, kk, hist"
   ]
  },
  {
   "cell_type": "markdown",
   "metadata": {},
   "source": [
    "Построим графики зависимости логарифа нормы бесконечности разности ошибки на каждой итерации для разных $w$ при n = 10, 30 и 50. "
   ]
  },
  {
   "cell_type": "code",
   "execution_count": null,
   "metadata": {},
   "outputs": [],
   "source": [
    "plotly.offline.init_notebook_mode()\n",
    "\n",
    "def gen_color(n):\n",
    "    res = []\n",
    "    for i in range(n):\n",
    "        res.append({'color': f'rgba({255 / n * (i + 1)},'\n",
    "                             f' 0,'\n",
    "                             f' 0,'\n",
    "                             f' 0.8)'\n",
    "                    })\n",
    "    return res\n",
    "\n",
    "\n",
    "def plot(data):\n",
    "    traces = []\n",
    "    colors = gen_color(len(data))\n",
    "    for (w, (x, y)), c in zip(data.items(), colors):\n",
    "        traces.append(\n",
    "            go.Scatter(\n",
    "                x=x,\n",
    "                y=y,\n",
    "                mode='lines+markers',\n",
    "                marker=c,\n",
    "                name=str(w)\n",
    "            )\n",
    "        )\n",
    "\n",
    "    layout = go.Layout(\n",
    "        title='Зависимость точности от количества итераций',\n",
    "        xaxis={\n",
    "            'title': 'k'\n",
    "        },\n",
    "        yaxis={\n",
    "            'title': 'Логарифм нормы бесконечности'\n",
    "        }\n",
    "    )\n",
    "\n",
    "    fig = go.Figure(data=traces, layout=layout)\n",
    "    plotly.offline.iplot(fig)\n",
    "\n",
    "    \n",
    "def test(n, w_arr=[1, 1.2, 1.4, 1.6, 1.8, 1.9]):\n",
    "    h = 1 / (n + 1)\n",
    "    ix = np.array([h * (i + 1) for i in range(n)])\n",
    "    iy = np.array([h * (i + 1) for i in range(n)])\n",
    "\n",
    "    f = generate_F(ix, iy, f_val).flatten()\n",
    "    A = generate_A(ix, iy, h, n)\n",
    "\n",
    "    u_true = generate_F(ix, iy, u_val).flatten()\n",
    "    data = {}\n",
    "    for w in w_arr:\n",
    "        u_pred, x, y = SOR(A, f, w=w, max_iter=100)\n",
    "        data[w] = (x, np.log10(np.linalg.norm(np.absolute(y - u_true), ord=np.inf, axis=1)))\n",
    "        # print(np.linalg.norm(np.abs(u_true - u_pred), ord=np.inf))\n",
    "\n",
    "    plot(data)\n",
    "\n",
    "\n",
    "test(10)\n",
    "test(30)\n",
    "test(50)"
   ]
  },
  {
   "cell_type": "markdown",
   "metadata": {},
   "source": [
    "Можем сделать вывод, что значение $w=1.9$ является оптимальным при возрастании N, на более маленьких значениях N, более малые значения $w$ показывают себя лучше, например 1.8. Теперь построим графики зависимости логарифа нормы бесконечности ошибки для разых N, при $w = 1.9$."
   ]
  },
  {
   "cell_type": "code",
   "execution_count": null,
   "metadata": {},
   "outputs": [],
   "source": [
    "def test2(w, n_arr):\n",
    "    data = {}\n",
    "    x = []\n",
    "    y = []\n",
    "    for n in n_arr:\n",
    "        h = 1 / (n + 1)\n",
    "        ix = np.array([h * (i + 1) for i in range(n)])\n",
    "        iy = np.array([h * (i + 1) for i in range(n)])\n",
    "\n",
    "        f = generate_F(ix, iy, f_val).flatten()\n",
    "        A = generate_A(ix, iy, h, n)\n",
    "\n",
    "        u_true = generate_F(ix, iy, u_val).flatten()\n",
    "\n",
    "        u_pred, _, _ = SOR(A, f, w=w, max_iter=100)\n",
    "        y.append(np.log10(np.linalg.norm(np.absolute(u_pred - u_true), ord=np.inf)))\n",
    "        x.append(n)\n",
    "    data[w] = (x, y)\n",
    "    plot(data)\n",
    "\n",
    "    \n",
    "test2(w=1.9, n_arr=[10, 20, 30, 50, 70, 90])"
   ]
  },
  {
   "cell_type": "markdown",
   "metadata": {},
   "source": [
    "После n=50 ошибка начинает возрастать, хотя казалось бы, что должно быть наоборот. Посмотрина итерации при n = 70:"
   ]
  },
  {
   "cell_type": "code",
   "execution_count": null,
   "metadata": {},
   "outputs": [],
   "source": [
    "test(70, [1.9])"
   ]
  },
  {
   "cell_type": "markdown",
   "metadata": {},
   "source": [
    "Получается, что алгоритму не хватает 100 итераций и следовало бы подумать о другом методе остановки алгоритма, а максимальное число итераций увеличить:"
   ]
  },
  {
   "cell_type": "code",
   "execution_count": null,
   "metadata": {},
   "outputs": [],
   "source": [
    "def SOR(A, f, w=1.0, max_iter=1000, tol=1e-8):\n",
    "    x = np.zeros_like(f)\n",
    "    hist = []\n",
    "    kk = []\n",
    "    prev = x.copy()\n",
    "    for k in range(max_iter):\n",
    "        for i in range(len(x)):\n",
    "            x[i] = (1 - w) * x[i] + w / A[i][i] * (f[i] - A[i, :i] @ x[:i] - A[i, i + 1:] @ x[i + 1:])\n",
    "        hist.append(x.copy())\n",
    "        kk.append(k + 1)\n",
    "\n",
    "        if np.linalg.norm(x - prev) <= tol:\n",
    "            break\n",
    "        prev = x.copy()\n",
    "    return x, kk, hist\n",
    "\n",
    "\n",
    "def test(n, w_arr=(1, 1.2, 1.4, 1.6, 1.8, 1.9), tol=1e-3, max_iter=1000):\n",
    "    h = 1 / (n + 1)\n",
    "    ix = np.array([h * (i + 1) for i in range(n)])\n",
    "    iy = np.array([h * (i + 1) for i in range(n)])\n",
    "\n",
    "    f = generate_F(ix, iy, f_val).flatten()\n",
    "    A = generate_A(ix, iy, h, n)\n",
    "\n",
    "    u_true = generate_F(ix, iy, u_val).flatten()\n",
    "    data = {}\n",
    "    for w in w_arr:\n",
    "        u_pred, x, y = SOR(A, f, w=w, max_iter=max_iter, tol=tol)\n",
    "        data[w] = (x, np.log10(np.linalg.norm(np.absolute(y - u_true), ord=np.inf, axis=1)))\n",
    "        # print(np.linalg.norm(np.abs(u_true - u_pred), ord=np.inf))\n",
    "    plot(data)\n",
    "\n",
    "\n",
    "def test2(w, n_arr, tol=1e-3, max_iter=1000):\n",
    "    data = {}\n",
    "    x = []\n",
    "    y = []\n",
    "    for n in n_arr:\n",
    "        h = 1 / (n + 1)\n",
    "        ix = np.array([h * (i + 1) for i in range(n)])\n",
    "        iy = np.array([h * (i + 1) for i in range(n)])\n",
    "\n",
    "        f = generate_F(ix, iy, f_val).flatten()\n",
    "        A = generate_A(ix, iy, h, n)\n",
    "\n",
    "        u_true = generate_F(ix, iy, u_val).flatten()\n",
    "\n",
    "        u_pred, _, _ = SOR(A, f, w=w, tol=tol, max_iter=max_iter)\n",
    "        y.append(np.log10(np.linalg.norm(np.absolute(u_pred - u_true), ord=np.inf)))\n",
    "        x.append(n)\n",
    "    data[w] = (x, y)\n",
    "    plot(data)\n",
    "\n",
    "    \n",
    "test(70, [1.9], tol=1e-4)"
   ]
  },
  {
   "cell_type": "markdown",
   "metadata": {},
   "source": [
    "Теперь метод сходится, как мы видим за 200 итераций. Понятно, что при большем n нам придется изменять tol и максимальное число итераций, но теперь мы можем контролировать сходимост и точность решения метода. Построим теперь теже самые графики."
   ]
  },
  {
   "cell_type": "code",
   "execution_count": null,
   "metadata": {},
   "outputs": [],
   "source": [
    "test2(w=1.9, n_arr=[10, 20, 30, 50, 70, 90], tol=1e-5)"
   ]
  },
  {
   "cell_type": "markdown",
   "metadata": {},
   "source": [
    "Теперь график имеет ожидаемое поведение."
   ]
  },
  {
   "cell_type": "code",
   "execution_count": null,
   "metadata": {},
   "outputs": [],
   "source": []
  }
 ],
 "metadata": {
  "kernelspec": {
   "display_name": "Python 3",
   "language": "python",
   "name": "python3"
  },
  "language_info": {
   "codemirror_mode": {
    "name": "ipython",
    "version": 3
   },
   "file_extension": ".py",
   "mimetype": "text/x-python",
   "name": "python",
   "nbconvert_exporter": "python",
   "pygments_lexer": "ipython3",
   "version": "3.6.8"
  }
 },
 "nbformat": 4,
 "nbformat_minor": 4
}
